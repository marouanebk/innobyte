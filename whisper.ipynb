{
 "cells": [
  {
   "cell_type": "markdown",
   "metadata": {},
   "source": [
    "### Build : \n",
    "\n",
    "```\n",
    "!pip install -q pytube\n",
    "!pip install -q git+https://github.com/openai/whisper.git\n",
    "!pip install -r reqs.txt\n",
    "\n",
    "```\n"
   ]
  },
  {
   "cell_type": "markdown",
   "metadata": {},
   "source": [
    "### Setup"
   ]
  },
  {
   "cell_type": "code",
   "execution_count": null,
   "metadata": {},
   "outputs": [],
   "source": [
    "import torch\n",
    "from pathlib import Path\n",
    "from pytube import YouTube\n",
    "\n",
    "import whisper\n",
    "from whisper.utils import get_writer"
   ]
  },
  {
   "cell_type": "code",
   "execution_count": null,
   "metadata": {},
   "outputs": [],
   "source": [
    "input_format : str = 'local'\n",
    "file :str = \"sample_audio.mp4\"\n",
    "plain : bool = True #save the transcribed file\n",
    "srt : bool = True ; tsv : bool = True ; vtt : bool= True\n",
    "download : bool = True #download the transcribed files\n"
   ]
  },
  {
   "cell_type": "markdown",
   "metadata": {},
   "source": [
    "### Configuration"
   ]
  },
  {
   "cell_type": "code",
   "execution_count": null,
   "metadata": {},
   "outputs": [],
   "source": [
    "DEBUG : bool = False\n",
    "device = 'cuda' if torch.cuda.is_available() else 'cpu'\n",
    "if DEBUG : print(f'Executing on : {device}')\n",
    "# instanciate the whisper model : english version (en)\n",
    "model = whisper.load_model('medium.en').to(device)"
   ]
  },
  {
   "cell_type": "markdown",
   "metadata": {},
   "source": [
    "### Transcribe the audio file"
   ]
  },
  {
   "cell_type": "code",
   "execution_count": null,
   "metadata": {},
   "outputs": [],
   "source": [
    "from pathlib import Path\n",
    "\n",
    "\n",
    "def transcribe_audio_file (model , file, plain,srt, vtt, tsv):\n",
    "    '''\n",
    "    loads and runs the whisper model on audio files and returns the written version of them\n",
    "    '''\n",
    "    file_path = Path(file)\n",
    "    if DEBUG : \n",
    "        print(f'Start of transcription of : {file_path}')\n",
    "    # Save the transcribed file into the source dir\n",
    "    output_dir = file_path.parent\n",
    "    \n",
    "    # run Whisper\n",
    "    transcript = model.transcribe(file, verbose=False, language='en')\n",
    "    \n",
    "    # Check other arguments to customiwe the saving\n",
    "    if plain :\n",
    "        txt_path = file_path.with_suffix('.txt')\n",
    "        print(f'Creating a plain text file : {txt_path}')\n",
    "        with open(txt_path, 'w', encoding='utf-8') as txt :\n",
    "            txt.write(transcript['text'])\n",
    "    if srt:\n",
    "        print(f'Creating srt file ')\n",
    "        srt_writer = get_writer('srt', output_dir)\n",
    "        srt_writer(transcript, str(file_path.stem)) \n",
    "        \n",
    "    if vtt :\n",
    "        print('Creating VTT file')       \n",
    "        vtt_writer = get_writer('vtt', output_dir)\n",
    "        vtt_writer(transcript, str(file_path.stem))\n",
    "        \n",
    "    if tsv :\n",
    "        print('Creating a tsv file')\n",
    "        tsv_writer = get_writer('tsv', output_dir)\n",
    "        tsv_writer(transcript, str(file_path.stem))\n",
    "        \n",
    "        \n",
    "    return transcript\n",
    "        \n",
    "    "
   ]
  },
  {
   "cell_type": "code",
   "execution_count": null,
   "metadata": {},
   "outputs": [],
   "source": [
    "transcript = transcribe_audio_file(model, file, plain, srt, vtt, tsv)"
   ]
  },
  {
   "cell_type": "code",
   "execution_count": null,
   "metadata": {},
   "outputs": [],
   "source": [
    "transcript['text']"
   ]
  },
  {
   "cell_type": "code",
   "execution_count": null,
   "metadata": {},
   "outputs": [],
   "source": []
  },
  {
   "cell_type": "code",
   "execution_count": null,
   "metadata": {},
   "outputs": [],
   "source": []
  },
  {
   "cell_type": "code",
   "execution_count": null,
   "metadata": {},
   "outputs": [],
   "source": []
  },
  {
   "cell_type": "code",
   "execution_count": null,
   "metadata": {},
   "outputs": [],
   "source": []
  },
  {
   "cell_type": "code",
   "execution_count": null,
   "metadata": {},
   "outputs": [],
   "source": []
  },
  {
   "cell_type": "code",
   "execution_count": null,
   "metadata": {},
   "outputs": [],
   "source": []
  }
 ],
 "metadata": {
  "kernelspec": {
   "display_name": "venv",
   "language": "python",
   "name": "python3"
  },
  "language_info": {
   "codemirror_mode": {
    "name": "ipython",
    "version": 3
   },
   "file_extension": ".py",
   "mimetype": "text/x-python",
   "name": "python",
   "nbconvert_exporter": "python",
   "pygments_lexer": "ipython3",
   "version": "3.10.11"
  }
 },
 "nbformat": 4,
 "nbformat_minor": 2
}
